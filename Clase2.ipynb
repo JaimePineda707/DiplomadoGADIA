{
  "nbformat": 4,
  "nbformat_minor": 0,
  "metadata": {
    "colab": {
      "provenance": [],
      "authorship_tag": "ABX9TyNGyZkauprNgyQaUM1XzJfI",
      "include_colab_link": true
    },
    "kernelspec": {
      "name": "python3",
      "display_name": "Python 3"
    },
    "language_info": {
      "name": "python"
    }
  },
  "cells": [
    {
      "cell_type": "markdown",
      "metadata": {
        "id": "view-in-github",
        "colab_type": "text"
      },
      "source": [
        "<a href=\"https://colab.research.google.com/github/JaimePineda707/DiplomadoGADIA/blob/main/Clase2.ipynb\" target=\"_parent\"><img src=\"https://colab.research.google.com/assets/colab-badge.svg\" alt=\"Open In Colab\"/></a>"
      ]
    },
    {
      "cell_type": "markdown",
      "source": [
        "CONDICIONALES, FUNCIONES Y AMNEJO DE ERRORES\n",
        "DIPLOMADO EN GOBIERNO Y ANALITICA DE DATOS\n",
        "FUNDACION UNIVERSIDATIRA CAFAM DOCENTE: NICOLAS MOJICA GÓMEZ\n",
        "ESTUDIANTE: JAIME ARMANDO PINERDA ROA"
      ],
      "metadata": {
        "id": "dgQFSvYcbes8"
      }
    },
    {
      "cell_type": "code",
      "source": [
        "'''\n",
        "Las condicionales en Python permiten tomar desiciones basadas en ciertas condiciones\n",
        "son fundamentales pasrs controlar el flujo de ejecucion\n",
        "'''\n",
        "edad =18\n",
        "# Crear una condicional que identifique si la persnoa es amyor o menor de edad\n",
        "if edad <18 :\n",
        "  print(\"Eres menor de edad\")\n",
        "else:\n",
        "  print(\"Eres mayor de edad\")\n"
      ],
      "metadata": {
        "colab": {
          "base_uri": "https://localhost:8080/"
        },
        "id": "dGXgrMxUbdSx",
        "outputId": "9fedc23e-fc3f-430f-c361-c501fca97aab"
      },
      "execution_count": null,
      "outputs": [
        {
          "output_type": "stream",
          "name": "stdout",
          "text": [
            "Eres menor de edad\n"
          ]
        }
      ]
    },
    {
      "cell_type": "code",
      "execution_count": null,
      "metadata": {
        "colab": {
          "base_uri": "https://localhost:8080/"
        },
        "id": "vsXqi_MdbbqY",
        "outputId": "b11d0493-8c2b-409d-f629-4c5964e9b973"
      },
      "outputs": [
        {
          "output_type": "stream",
          "name": "stdout",
          "text": [
            "Por favor ingresa tu edad 43\n",
            "Eres mayor de edad\n"
          ]
        }
      ],
      "source": [
        "# Genreear un programa que calsifique la eda introducida por el usuario entre mayor y menor de edad\n",
        "\n",
        "edad=int(input(\"Por favor ingresa tu edad \"))\n",
        "\n",
        "if edad <18 :\n",
        "    print(\"Eres mayor de edad\")\n",
        "\n",
        "else :\n",
        "  print(\"Eres mayor de edad\")\n"
      ]
    },
    {
      "cell_type": "code",
      "source": [
        "from re import I\n",
        "# Construya un programa que al ingresar la nota del usuario lo clasifique en:\n",
        "# No aprobado <60, >=90 Clasificaion A,>= 80 Clasifiacione B, otros clasificcacion C\n",
        "nota = int(input(\"Ingrese nota \"))\n",
        "if nota >=60 :\n",
        "  if nota >= 90 :\n",
        "      print(\"Clasificaion A\")\n",
        "  elif nota >=80 :\n",
        "      print(\"Clasificaion B\")\n",
        "  else:\n",
        "      print(\"Clasificacion C\")\n",
        "else:\n",
        "      print(\"No aprobado\")\n",
        "\n",
        "\n"
      ],
      "metadata": {
        "colab": {
          "base_uri": "https://localhost:8080/"
        },
        "id": "sqOpBikme9wb",
        "outputId": "817c781c-bffe-4219-ba6f-fcaa18c9903f"
      },
      "execution_count": null,
      "outputs": [
        {
          "output_type": "stream",
          "name": "stdout",
          "text": [
            "Ingrese nota 8999\n",
            "Clasificaion A\n"
          ]
        }
      ]
    },
    {
      "cell_type": "markdown",
      "source": [
        "\"\"\"\n",
        "Comparaciones\n",
        "Las condiciones en las sentencias condicionales suelen involucrar operadores de comparación:\n",
        "\n",
        "- == (igual a)\n",
        "- != (diferente de)\n",
        "- > (mayor que)\n",
        "- < (menor que)\n",
        "- >= (mayor o igual que)\n",
        "- <= (menor o igual que)\n",
        "\"\"\""
      ],
      "metadata": {
        "id": "WYuT7COkiakz"
      }
    },
    {
      "cell_type": "code",
      "source": [
        "# Escribe un programa que verifique si un número ingresado por el usuario es par o impar\n",
        "num = int(input(\" Ingrese su numero\"))\n"
      ],
      "metadata": {
        "id": "Qdloh_-VhN0X"
      },
      "execution_count": null,
      "outputs": []
    },
    {
      "cell_type": "code",
      "source": [
        "# Crea un programa que lea dos números y determine cuál es mayor, cuál es menor o si ambos son iguales\n",
        "\n",
        "num1 =int(input(\"Ingrese su numero: \"))\n",
        "num2 =int(input(\"ingrese su numero: \"))\n",
        "if num1 != num2 :\n",
        "  if num1 > num2:\n",
        "    print(f\"El numero mayor es: {num1}\")\n",
        "  else :\n",
        "    print(f\"El numero mayor es: {num2}\")\n",
        "else:\n",
        "  print(\"Los numeros son iguales\")"
      ],
      "metadata": {
        "colab": {
          "base_uri": "https://localhost:8080/"
        },
        "id": "FdVkqjwkjnvH",
        "outputId": "86b01a86-2cb9-436a-c216-8e529fba4653"
      },
      "execution_count": null,
      "outputs": [
        {
          "output_type": "stream",
          "name": "stdout",
          "text": [
            "Ingrese su numero: 1\n",
            "ingrese su numero: 1\n",
            "Los numeros son iguales\n"
          ]
        }
      ]
    },
    {
      "cell_type": "code",
      "source": [
        "num1 = int(input(\"-> Ingrese el primer número: \"))\n",
        "num2 = int(input(\"-> Ingrese el segundo número: \"))\n",
        "\n",
        "if num1 != num2:\n",
        "\n",
        "  if num1 > num2:\n",
        "    print(\"// El primer número es mayor que el segundo. Es decir, el segundo número es menor que el primero. \")\n",
        "  else:\n",
        "    print(\"// El segundo número es mayor que el primero. Es decir, el primer número es menor que el segundo. \")\n",
        "\n",
        "else:\n",
        "  print(\"// Los dos números son iguales. \")"
      ],
      "metadata": {
        "id": "Oru9XsKSknsM",
        "colab": {
          "base_uri": "https://localhost:8080/"
        },
        "outputId": "8a66af72-c3e5-4f70-a568-8e2f05149ea8"
      },
      "execution_count": null,
      "outputs": [
        {
          "output_type": "stream",
          "name": "stdout",
          "text": [
            "-> Ingrese el primer número: 78\n",
            "-> Ingrese el segundo número: 77\n",
            "// El primer número es mayor que el segundo. Es decir, el segundo número es menor que el primero. \n"
          ]
        }
      ]
    },
    {
      "cell_type": "code",
      "source": [
        "# Escribe un programa que clasifique la edad en diferentes categorías:\n",
        "# Niño (0-12 años), Adolescente (13-17 años), Adulto (18-64 años) y Anciano (65 años o más).\n",
        "Poblacion = int(input(\"Por favor ingrese su edad en nuemros :\"))\n",
        "if Poblacion <0\n",
        "print(\"NO puede ser un numero negativo\")\n",
        " elif Poblacion >12\n",
        "    print(\" Niño\")\n",
        "    elif Poblacion <17\n",
        "    print(\"Adolescente\")\n",
        "    elif Poblacion >63\n",
        "    print(Adulto)\n",
        "else :\n",
        "  print(Anciano)\n"
      ],
      "metadata": {
        "id": "6egVUbkqlXai",
        "colab": {
          "base_uri": "https://localhost:8080/",
          "height": 110
        },
        "outputId": "ebe6983c-92f9-4493-d445-9ddccd21ed9e"
      },
      "execution_count": null,
      "outputs": [
        {
          "output_type": "error",
          "ename": "SyntaxError",
          "evalue": "expected ':' (<ipython-input-56-d050c207ee92>, line 4)",
          "traceback": [
            "\u001b[0;36m  File \u001b[0;32m\"<ipython-input-56-d050c207ee92>\"\u001b[0;36m, line \u001b[0;32m4\u001b[0m\n\u001b[0;31m    if Poblacion <0\u001b[0m\n\u001b[0m                   ^\u001b[0m\n\u001b[0;31mSyntaxError\u001b[0m\u001b[0;31m:\u001b[0m expected ':'\n"
          ]
        }
      ]
    },
    {
      "cell_type": "markdown",
      "source": [
        "## 2. Funciones\n",
        "Bloques de codigo de Python que se pueden reutulizar para ejecutar una tarea en especifico.\n"
      ],
      "metadata": {
        "id": "Rv24M3PjuCsh"
      }
    },
    {
      "cell_type": "code",
      "source": [
        "#Tengo la función lineal y = mx+b\n",
        "#Deseo evaluar el valor de X = 5 en la función y=4x+7\n",
        "def funcion_lineal (x) :\n",
        "    variable = x\n",
        "    y=(4*variable)+7\n",
        "    z=print(f\"El valor de y es : {y}.\")\n",
        "    return z\n",
        "funcion_lineal(5)\n"
      ],
      "metadata": {
        "colab": {
          "base_uri": "https://localhost:8080/"
        },
        "id": "DsPtv-UhuRWW",
        "outputId": "42866e8c-aac4-4b06-9768-711af62fedeb"
      },
      "execution_count": null,
      "outputs": [
        {
          "output_type": "stream",
          "name": "stdout",
          "text": [
            "El valor de y es : 27.\n"
          ]
        }
      ]
    },
    {
      "cell_type": "code",
      "source": [
        "def suma(a,b) :\n",
        "  return a+b\n",
        "print(suma(2,2))"
      ],
      "metadata": {
        "colab": {
          "base_uri": "https://localhost:8080/"
        },
        "id": "G46TquHot-MG",
        "outputId": "0c364c40-c108-488c-c075-0a17f256b8c6"
      },
      "execution_count": null,
      "outputs": [
        {
          "output_type": "stream",
          "name": "stdout",
          "text": [
            "4\n"
          ]
        }
      ]
    },
    {
      "cell_type": "code",
      "source": [
        "#Con Prints\n",
        "\n",
        "def verificar_mayoria_edad(edad):\n",
        "    if edad < 0:\n",
        "        print (\"Edad no válida\")\n",
        "    elif edad >= 18:\n",
        "        print(\"Eres mayor de edad.\")\n",
        "    else:\n",
        "        print(\"Eres menor de edad.\")\n",
        "\n",
        "# Ejemplo de uso\n",
        "edad = int(input(\"Ingresa tu edad: \"))\n",
        "verificar_mayoria_edad(edad)\n",
        "\n",
        "#Con Returns\n",
        "def verificar_mayoria_edad(edad):\n",
        "    if edad < 0:\n",
        "        return \"Edad no válida\"\n",
        "    elif edad >= 18:\n",
        "        return \"Eres mayor de edad.\"\n",
        "    else:\n",
        "        return \"Eres menor de edad.\"\n",
        "\n",
        "# Ejemplo de uso\n",
        "edad = int(input(\"Ingresa tu edad: \"))\n",
        "print(verificar_mayoria_edad(edad))\n",
        "\n"
      ],
      "metadata": {
        "colab": {
          "base_uri": "https://localhost:8080/"
        },
        "id": "iIQnF2GqznjH",
        "outputId": "36eec647-dabe-422b-c00f-e58c9121a2ff"
      },
      "execution_count": null,
      "outputs": [
        {
          "output_type": "stream",
          "name": "stdout",
          "text": [
            "Ingresa tu edad: 0\n",
            "Eres menor de edad.\n",
            "Ingresa tu edad: 0\n",
            "Eres menor de edad.\n"
          ]
        }
      ]
    },
    {
      "cell_type": "code",
      "source": [
        "# Defina una funcion que al ingresar su nombre lo salude\n",
        " # def nos permite definir un nombre de funcion\n",
        " # Posterior al def, dentro de los () colocamos las variables o parametros de la funcion\n",
        " # Finalizamos con el : para empezar a declarar el calculo con las variables\n",
        "\n",
        " def saludar(nombre):\n",
        "        print(\"Hola \" + nombre)\n",
        "\n",
        " # Cuando queremos llamar a la funcion, colocamos el nomnbre, dentro de los parentesis que queremos evaluar en esa funcion\n",
        "\n",
        "  saludar(input(\"Ingrese su nombre: \"))\n",
        "\n",
        "\n"
      ],
      "metadata": {
        "id": "-5zu4h1s1At6",
        "colab": {
          "base_uri": "https://localhost:8080/",
          "height": 110
        },
        "outputId": "d8aeff8b-9d09-4418-a0b8-dd8ee54c751b"
      },
      "execution_count": 14,
      "outputs": [
        {
          "output_type": "error",
          "ename": "IndentationError",
          "evalue": "unindent does not match any outer indentation level (<tokenize>, line 11)",
          "traceback": [
            "\u001b[0;36m  File \u001b[0;32m\"<tokenize>\"\u001b[0;36m, line \u001b[0;32m11\u001b[0m\n\u001b[0;31m    saludar(input(\"Ingrese su nombre: \"))\u001b[0m\n\u001b[0m    ^\u001b[0m\n\u001b[0;31mIndentationError\u001b[0m\u001b[0;31m:\u001b[0m unindent does not match any outer indentation level\n"
          ]
        }
      ]
    },
    {
      "cell_type": "code",
      "source": [
        " # Defina una funcion que al ingresar su nombre lo salude y determine si ud es mayor o menor de edad\n",
        "\n",
        "def saludo():\n",
        "  nombre = input(\"-> Ingrese su nombre: \")\n",
        "  edad = int(input(\"-> Ingrese su edad: \"))\n",
        "  TipoEdad = \"\"\n",
        "\n",
        "  if edad >= 0:\n",
        "\n",
        "    if edad<18:\n",
        "      TipoEdad = \"Menor\"\n",
        "    else:\n",
        "      TipoEdad = \"Mayor\"\n",
        "\n",
        "  else:\n",
        "    print(\"// La edad no puede ser mayor a 0. \")\n",
        "    TipoEdad = \"[Edad ingresada inválida]\"\n",
        "\n",
        "  return f\"Hola, {nombre}! Usted es {TipoEdad} de edad.\"\n",
        "\n",
        "print(saludo())"
      ],
      "metadata": {
        "colab": {
          "base_uri": "https://localhost:8080/"
        },
        "id": "UKRlkMz5QRkV",
        "outputId": "b02df8eb-64b6-4766-823e-165173ef2cc7"
      },
      "execution_count": 8,
      "outputs": [
        {
          "output_type": "stream",
          "name": "stdout",
          "text": [
            "-> Ingrese su nombre: jaime\n",
            "-> Ingrese su edad: 28\n",
            "Hola, jaime! Usted es Mayor de edad.\n"
          ]
        }
      ]
    },
    {
      "cell_type": "code",
      "source": [
        "def saludo_edad(nombre,edad):\n",
        "\n",
        "    if edad >= 0:\n",
        "      if edad<18:\n",
        "        print(f\"Hola {nombre}, eres menor de edad\")\n",
        "      else:\n",
        "        print(f\"Hola {nombre}, eres mayor de edad\")\n",
        "    else:\n",
        "      print(\"La edad ingresada no es valida\")\n",
        "\n",
        "saludo_edad(str(input(\"Ingrese su nombre \")),int(input(\"Ingrese su edad: \")))"
      ],
      "metadata": {
        "colab": {
          "base_uri": "https://localhost:8080/"
        },
        "id": "B8pye7H5OsOG",
        "outputId": "96427e25-0710-4013-fbf9-69d4088ac623"
      },
      "execution_count": 20,
      "outputs": [
        {
          "output_type": "stream",
          "name": "stdout",
          "text": [
            "Ingrese su nombre jaime\n",
            "Ingrese su edad: 36\n",
            "Hola jaime, eres mayor de edad\n"
          ]
        }
      ]
    },
    {
      "cell_type": "code",
      "source": [
        "# Descripción: Escribe una función que tome una contraseña y la verifique contra una contraseña predeterminada\n",
        "# (\"secreta123\"). La función debe devolver si la contraseña es correcta o incorrecta.\n",
        "\n",
        "def contraseña1(ingrese_su_contraseña):\n",
        "\n",
        "    if ingrese_su_contraseña == contraseña1:\n",
        "\n",
        "      print(f\"Bienvenido usuario\")\n",
        "\n",
        "    else :\n",
        "\n",
        "contraseña1 print(\"Intentalo_nuavamente \")\n",
        "\n"
      ],
      "metadata": {
        "colab": {
          "base_uri": "https://localhost:8080/",
          "height": 110
        },
        "id": "9LKy2FYVTaOP",
        "outputId": "aa55e82c-9ceb-4f17-e513-768efc2f2027"
      },
      "execution_count": 26,
      "outputs": [
        {
          "output_type": "error",
          "ename": "IndentationError",
          "evalue": "expected an indented block after 'else' statement on line 10 (<ipython-input-26-50b65e6c0976>, line 12)",
          "traceback": [
            "\u001b[0;36m  File \u001b[0;32m\"<ipython-input-26-50b65e6c0976>\"\u001b[0;36m, line \u001b[0;32m12\u001b[0m\n\u001b[0;31m    contraseña1(\"Intentalo_nuavamente_\")\u001b[0m\n\u001b[0m                                        ^\u001b[0m\n\u001b[0;31mIndentationError\u001b[0m\u001b[0;31m:\u001b[0m expected an indented block after 'else' statement on line 10\n"
          ]
        }
      ]
    },
    {
      "cell_type": "code",
      "source": [],
      "metadata": {
        "id": "5ZTkT1UnWltr"
      },
      "execution_count": null,
      "outputs": []
    },
    {
      "cell_type": "code",
      "source": [],
      "metadata": {
        "id": "epAnaUbIVID_"
      },
      "execution_count": null,
      "outputs": []
    }
  ]
}